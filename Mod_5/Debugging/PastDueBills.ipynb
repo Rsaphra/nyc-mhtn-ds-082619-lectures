{
 "cells": [
  {
   "cell_type": "markdown",
   "metadata": {
    "slideshow": {
     "slide_type": "slide"
    }
   },
   "source": [
    "# Debugging for Python"
   ]
  },
  {
   "cell_type": "markdown",
   "metadata": {
    "slideshow": {
     "slide_type": "slide"
    }
   },
   "source": [
    "<table border=\"0\">\n",
    " <tr>\n",
    "    <td><b style=\"font-size:48px; text-align: left\">History of Bugs</b></td>\n",
    "    <td><b style=\"font-size:30px\"></b></td>\n",
    " </tr>\n",
    " <tr>\n",
    "    <td style='width: 60%'><p style=\"font-size:34px\">It has been just so in all of my inventions. The first step is an intuition, and comes with a burst, then difficulties arise—this thing gives out and [it is] then that \"Bugs\"—as such little faults and difficulties are called—show themselves and months of intense watching, study and labor are requisite before commercial success or failure is certainly reached. </p>\n",
    "        <p><b style='font-size:30px'>Thomas Edison, 1878 letter to an associate</b></p></td>\n",
    "    <td><img src=\"https://media.giphy.com/media/UAUtB4Oi9U4EM/giphy.gif\" width=\"640\" height=\"480\" frameBorder=\"0\" />\n",
    "        <p></p>.</td>\n",
    " </tr>\n",
    "</table>"
   ]
  },
  {
   "cell_type": "markdown",
   "metadata": {
    "slideshow": {
     "slide_type": "subslide"
    }
   },
   "source": [
    "### Grace Hopper and The Actual Bug\n",
    "\n",
    "![Actual Bug](images/BugExample.jpg)"
   ]
  },
  {
   "cell_type": "markdown",
   "metadata": {
    "slideshow": {
     "slide_type": "slide"
    }
   },
   "source": [
    "## Debugging Algorithm"
   ]
  },
  {
   "cell_type": "markdown",
   "metadata": {
    "slideshow": {
     "slide_type": "fragment"
    }
   },
   "source": [
    "* Gather information"
   ]
  },
  {
   "cell_type": "markdown",
   "metadata": {
    "slideshow": {
     "slide_type": "fragment"
    }
   },
   "source": [
    "* Form a hypothesis"
   ]
  },
  {
   "cell_type": "markdown",
   "metadata": {
    "slideshow": {
     "slide_type": "fragment"
    }
   },
   "source": [
    "* Test the hypothesis"
   ]
  },
  {
   "cell_type": "markdown",
   "metadata": {
    "slideshow": {
     "slide_type": "fragment"
    }
   },
   "source": [
    "* Repeat until a hypothesis is proven"
   ]
  },
  {
   "cell_type": "markdown",
   "metadata": {
    "slideshow": {
     "slide_type": "fragment"
    }
   },
   "source": [
    "* Propose a solution"
   ]
  },
  {
   "cell_type": "markdown",
   "metadata": {
    "slideshow": {
     "slide_type": "slide"
    }
   },
   "source": [
    "## Tools\n",
    "* Try/Except Statements\n",
    "* Logging\n",
    "* Python Debugger (PDB)"
   ]
  },
  {
   "cell_type": "markdown",
   "metadata": {
    "slideshow": {
     "slide_type": "slide"
    }
   },
   "source": [
    "## Try/Except Statements\n",
    "\n",
    "![Try Hard](images/try_except.jpg)"
   ]
  },
  {
   "cell_type": "markdown",
   "metadata": {
    "slideshow": {
     "slide_type": "subslide"
    }
   },
   "source": [
    "### Try and Try Again (Except When You Can't)\n",
    "Handling exceptions (aka errors) is an important part of creating a robust program/script."
   ]
  },
  {
   "cell_type": "markdown",
   "metadata": {
    "slideshow": {
     "slide_type": "fragment"
    }
   },
   "source": [
    "What typically happens when an exception occurs?"
   ]
  },
  {
   "cell_type": "markdown",
   "metadata": {
    "slideshow": {
     "slide_type": "fragment"
    }
   },
   "source": [
    "Think about a time where an exception occurred in the middle of a code block. What did you want to have happen instead of just stopping?"
   ]
  },
  {
   "cell_type": "code",
   "execution_count": 1,
   "metadata": {
    "scrolled": false,
    "slideshow": {
     "slide_type": "subslide"
    }
   },
   "outputs": [
    {
     "ename": "NameError",
     "evalue": "name 'x' is not defined",
     "output_type": "error",
     "traceback": [
      "\u001b[0;31m---------------------------------------------------------------------------\u001b[0m",
      "\u001b[0;31mNameError\u001b[0m                                 Traceback (most recent call last)",
      "\u001b[0;32m<ipython-input-1-850ade3266cd>\u001b[0m in \u001b[0;36m<module>\u001b[0;34m\u001b[0m\n\u001b[1;32m      1\u001b[0m \u001b[0;32mimport\u001b[0m \u001b[0mmatplotlib\u001b[0m\u001b[0;34m.\u001b[0m\u001b[0mpyplot\u001b[0m \u001b[0;32mas\u001b[0m \u001b[0mplt\u001b[0m\u001b[0;34m\u001b[0m\u001b[0;34m\u001b[0m\u001b[0m\n\u001b[0;32m----> 2\u001b[0;31m \u001b[0mplt\u001b[0m\u001b[0;34m.\u001b[0m\u001b[0mplot\u001b[0m\u001b[0;34m(\u001b[0m\u001b[0mx\u001b[0m\u001b[0;34m)\u001b[0m\u001b[0;34m\u001b[0m\u001b[0;34m\u001b[0m\u001b[0m\n\u001b[0m\u001b[1;32m      3\u001b[0m \u001b[0;31m# What do we expect to happen if we run this line of code?\u001b[0m\u001b[0;34m\u001b[0m\u001b[0;34m\u001b[0m\u001b[0;34m\u001b[0m\u001b[0m\n",
      "\u001b[0;31mNameError\u001b[0m: name 'x' is not defined"
     ]
    }
   ],
   "source": [
    "import matplotlib.pyplot as plt\n",
    "plt.plot(x)\n",
    "# What do we expect to happen if we run this line of code?"
   ]
  },
  {
   "cell_type": "markdown",
   "metadata": {
    "slideshow": {
     "slide_type": "subslide"
    }
   },
   "source": [
    "* **Try**\n",
    " * The program will **try** to run the code contained in the try block and if it hits an exception will check for an appropriately caught exception\n"
   ]
  },
  {
   "cell_type": "markdown",
   "metadata": {
    "slideshow": {
     "slide_type": "fragment"
    }
   },
   "source": [
    "* **Except**\n",
    " * The program will then run the appropriate **except** block."
   ]
  },
  {
   "cell_type": "markdown",
   "metadata": {
    "slideshow": {
     "slide_type": "fragment"
    }
   },
   "source": [
    "* **Else**\n",
    " * If no exception was caught it will then run any code in an **else** block."
   ]
  },
  {
   "cell_type": "markdown",
   "metadata": {
    "slideshow": {
     "slide_type": "fragment"
    }
   },
   "source": [
    "* **Finally**\n",
    " * And then finally the program will run any code in the **finally** block."
   ]
  },
  {
   "cell_type": "code",
   "execution_count": 2,
   "metadata": {
    "slideshow": {
     "slide_type": "subslide"
    }
   },
   "outputs": [
    {
     "name": "stdout",
     "output_type": "stream",
     "text": [
      "Variable x is not defined :(\n",
      "Code's done!\n"
     ]
    }
   ],
   "source": [
    "# To catch the error:\n",
    "try:\n",
    "    import matplotlib.pyplot as plt\n",
    "    plt.plot(x)\n",
    "except:\n",
    "    print('Variable x is not defined :(')\n",
    "else:\n",
    "    print('Successful plotting! :D')\n",
    "finally:\n",
    "    print(\"Code's done!\")"
   ]
  },
  {
   "cell_type": "markdown",
   "metadata": {
    "slideshow": {
     "slide_type": "fragment"
    }
   },
   "source": [
    "What are some potential problems with this approach?"
   ]
  },
  {
   "cell_type": "markdown",
   "metadata": {
    "slideshow": {
     "slide_type": "subslide"
    }
   },
   "source": [
    "\n",
    "<table border=\"0\">\n",
    " <tr>\n",
    "    <td><b style=\"font-size:48px; text-align: left\">The better approach</b></td>\n",
    "    <td><b style=\"font-size:30px\"></b></td>\n",
    " </tr>\n",
    " <tr>\n",
    "    <td style='width: 60%'><p style=\"font-size:34px\">\n",
    "<code>try:\n",
    "    plt.plot(x)\n",
    "except NameError:\n",
    "    print('Variable x is not defined')\n",
    "except ValueError:\n",
    "    print('Value not plottable')\n",
    "except et cetera:\n",
    "    et cetera\n",
    "</code></p>\n",
    "    <td><img src=\"images/error.png\" width=\"640\" height=\"480\" frameBorder=\"0\" />\n",
    "        <p></p>.</td>\n",
    " </tr>\n",
    "</table>\n"
   ]
  },
  {
   "cell_type": "code",
   "execution_count": 3,
   "metadata": {
    "slideshow": {
     "slide_type": "skip"
    }
   },
   "outputs": [],
   "source": [
    "### Example in practice:\n",
    "class TwitterStreamer():\n",
    "    def stream_tweets(self,tag_list,user_list):\n",
    "        # Authentication stuff\n",
    "        listener = StdOutListener()\n",
    "        auth = OAuthHandler(\n",
    "            credentials.CONSUMER_KEY,credentials.CONSUMER_SECRET)\n",
    "        auth.set_access_token(\n",
    "            credentials.ACCESS_TOKEN,credentials.ACCESS_TOKEN_SECRET)\n",
    "        # Creating a stream object\n",
    "        stream = Stream(auth,listener)\n",
    "        start = time.time()\n",
    "        # Turning the firehose on\n",
    "        try:\n",
    "            stream.filter(\n",
    "                track=tag_list,follow=user_list) # listen in on incoming tweets\n",
    "        except BaseException as e:\n",
    "            print(f'Error on stream after {time.time()-start} seconds: {e}') # print how long stream lasted\n",
    "            time.sleep(3) # give it a second (or 3)\n",
    "            print('Still listening . . .')\n",
    "            self.stream_tweets(\n",
    "                tag_list,user_list) # start listening again"
   ]
  },
  {
   "cell_type": "markdown",
   "metadata": {
    "slideshow": {
     "slide_type": "subslide"
    }
   },
   "source": [
    "\n",
    "<table border=\"0\">\n",
    " <tr>\n",
    "    <td><b style=\"font-size:48px; text-align: left\">The betterer approach</b></td>\n",
    "    <td><b style=\"font-size:30px\"></b></td>\n",
    " </tr>\n",
    " <tr>\n",
    "    <td style='width: 60%'><p style=\"font-size:34px\">\n",
    "<code>try:\n",
    "    plt.plot(x)\n",
    "except NameError:\n",
    "    print('Variable x is not defined')\n",
    "except ValueError:\n",
    "    etc,etc\n",
    "else:\n",
    "    plt.savefig()\n",
    "finally:\n",
    "    print('Job's done!')\n",
    "</code></p>\n",
    "    <td><img src=\"images/error.png\" width=\"640\" height=\"480\" frameBorder=\"0\" />\n",
    "        <p></p>.</td>\n",
    " </tr>\n",
    "</table>"
   ]
  },
  {
   "cell_type": "markdown",
   "metadata": {
    "slideshow": {
     "slide_type": "subslide"
    }
   },
   "source": [
    "## But we can still do bettererer\n",
    "What are some problems with the way errors are tracked in this example?"
   ]
  },
  {
   "cell_type": "markdown",
   "metadata": {
    "slideshow": {
     "slide_type": "subslide"
    }
   },
   "source": [
    "<p align=\"center\">\n",
    "  <img src=\"images/logging.jpg\" alt='Logbob'/ style=\"\n",
    "      display: block;\n",
    "      margin-left: auto;\n",
    "      margin-right: auto;\n",
    "      width: 50%;\">\n",
    "</p>"
   ]
  },
  {
   "cell_type": "markdown",
   "metadata": {
    "slideshow": {
     "slide_type": "slide"
    }
   },
   "source": [
    "## Logging (It's better than bad, it's good!)"
   ]
  },
  {
   "cell_type": "code",
   "execution_count": 3,
   "metadata": {
    "slideshow": {
     "slide_type": "fragment"
    }
   },
   "outputs": [
    {
     "name": "stderr",
     "output_type": "stream",
     "text": [
      "WARNING:root:This is a warning message\n",
      "ERROR:root:This is an error message\n",
      "CRITICAL:root:This is a critical message\n"
     ]
    }
   ],
   "source": [
    "import logging\n",
    "\n",
    "logging.debug('This is a debug message')\n",
    "logging.info('This is an info message')\n",
    "logging.warning('This is a warning message')\n",
    "logging.error('This is an error message')\n",
    "logging.critical('This is a critical message')"
   ]
  },
  {
   "cell_type": "markdown",
   "metadata": {
    "slideshow": {
     "slide_type": "subslide"
    }
   },
   "source": [
    "## Logging\n",
    "\n",
    "#### Basic Configuration Options\n",
    "* **level**: The root logger will be set to the specified severity level.\n",
    "* **filename**: This specifies the file to log into.\n",
    "* **filemode**: If filename is given, the file is opened in this mode. The default is a, which appends.\n",
    "* **format**: Changes the output of the log message (many parameters to play with here)."
   ]
  },
  {
   "cell_type": "markdown",
   "metadata": {
    "slideshow": {
     "slide_type": "subslide"
    }
   },
   "source": [
    "### You can only set the basicConfig once, here's an example\n",
    "```\n",
    "logging.basicConfig(level=logging.INFO, \\\n",
    "            filename='app.log', filemode='w+', \\\n",
    "            format='%(name)s - %(levelname)s - %(message)s')\n",
    "```"
   ]
  },
  {
   "cell_type": "markdown",
   "metadata": {
    "slideshow": {
     "slide_type": "fragment"
    }
   },
   "source": [
    "![It's better than bad](images/log_example.jpg)"
   ]
  },
  {
   "cell_type": "code",
   "execution_count": 5,
   "metadata": {},
   "outputs": [
    {
     "name": "stderr",
     "output_type": "stream",
     "text": [
      "Coheed and Cambria - %(level)s - %(asctime)s - CRITICAL - 2019-10-28 10:29:35,077\n"
     ]
    }
   ],
   "source": [
    "logging.basicConfig(level=logging.CRITICAL, filename='app.log', \n",
    "                    filemode='w+', format='%(message)s - %(level)s - %(asctime)s')\n",
    "logging.critical('Coheed and Cambria - %(level)s - %(asctime)s')\n"
   ]
  },
  {
   "cell_type": "markdown",
   "metadata": {
    "slideshow": {
     "slide_type": "subslide"
    }
   },
   "source": [
    "## Logging Example\n",
    "\n",
    "Write code below that writes a log file with a critical message containing your favorite band, the level of the message and the current time (this will require setting the basicConfig and a little googling).\n",
    "\n",
    "e.g:\n",
    "```\n",
    "Coheed & Cambria - CRITICAL - 28/Oct/2019 10:35:02\n",
    "```\n"
   ]
  },
  {
   "cell_type": "code",
   "execution_count": 6,
   "metadata": {
    "slideshow": {
     "slide_type": "fragment"
    }
   },
   "outputs": [
    {
     "name": "stderr",
     "output_type": "stream",
     "text": [
      "Coheed & Cambria \\m/ - CRITICAL - 2019-10-28 10:30:29,265\n"
     ]
    }
   ],
   "source": [
    "import logging\n",
    "logging.basicConfig(format='%(message)s - %(levelname)s - %(asctime)s')\n",
    "logging.critical('Coheed & Cambria \\\\m/')"
   ]
  },
  {
   "cell_type": "code",
   "execution_count": 7,
   "metadata": {
    "slideshow": {
     "slide_type": "skip"
    }
   },
   "outputs": [],
   "source": [
    "# Example of it used in practice\n",
    "import logging\n",
    "import requests\n",
    "from flask import abort, Flask, request\n",
    "\n",
    "# Set logging parameters\n",
    "logging.basicConfig(level=logging.INFO, filename='app.log', filemode='w+', \\\n",
    "                    format='%(name)s - %(levelname)s - %(message)s')\n",
    "\n",
    "app = Flask(__name__)\n",
    "\n",
    "@app.route('/rec', methods=['POST'])\n",
    "def find_games():\n",
    "    try:\n",
    "        # Parameter options: game names or mechanic names\n",
    "        params=dict()\n",
    "        params['games'] = request.args.get('games')\n",
    "        params['mechanics'] = request.args.get('mechanics')\n",
    "        \n",
    "        # Split request into list of strings\n",
    "        games = params['games'].split(',') if params['games'] else []\n",
    "        mechanics = params['mechanics'].split(',') if params['mechanics'] else []\n",
    "        \n",
    "        # Log successful request\n",
    "        logging.info(f'Successful request: \\n Games: {games if games else \"None\"} \\n Mechanics: {mechanics if mechanics else \"None\"}')\n",
    "    except Exception as e:\n",
    "        logging.exception(f'Bad request: {request}')\n",
    "        # same as \n",
    "        # logging.error(f'Bad request: {request}', exc_info=True)\n",
    "        abort(400)\n",
    "\n",
    "    # Perform recommendation\n",
    "    data = get_nearest(games,mechanics)\n",
    "    logging.info(f'Results: {[datum[\"name\"] for datum in data]}')\n",
    "    line = '\\n'\n",
    "    logging.info(f'Returned: {line}{line.join([str(datum)+line for datum in data])}')\n",
    "\n",
    "    return {'games': data}"
   ]
  },
  {
   "cell_type": "markdown",
   "metadata": {
    "slideshow": {
     "slide_type": "slide"
    }
   },
   "source": [
    "## PDB (Python Debugger)"
   ]
  },
  {
   "cell_type": "markdown",
   "metadata": {
    "slideshow": {
     "slide_type": "fragment"
    }
   },
   "source": [
    "### Breakpoints\n",
    "Automatically imports pdb and creates a checkpoint within your code"
   ]
  },
  {
   "cell_type": "markdown",
   "metadata": {
    "slideshow": {
     "slide_type": "subslide"
    }
   },
   "source": [
    "### Keywords\n",
    "#### n(ext)\n",
    " * Run to the next line of code"
   ]
  },
  {
   "cell_type": "markdown",
   "metadata": {
    "slideshow": {
     "slide_type": "fragment"
    }
   },
   "source": [
    "```\n",
    "x_train, x_test, y_train, y_test = \n",
    "    train_test_split(features,target)\n",
    "for model_object in model_list:\n",
    "    breakpoint()\n",
    "    model = model_object.fit(x_train,y_train)\n",
    "    y_pred = model.predict(x_train)\n",
    "    plt.scatter(y_test, y_pred)\n",
    "```"
   ]
  },
  {
   "cell_type": "markdown",
   "metadata": {
    "slideshow": {
     "slide_type": "subslide"
    }
   },
   "source": [
    "#### s(tep)\n",
    " * Step into the next possible moment that can be stopped (calling a new function or the next line)"
   ]
  },
  {
   "cell_type": "markdown",
   "metadata": {
    "slideshow": {
     "slide_type": "subslide"
    }
   },
   "source": [
    "```\n",
    "x_train, x_test, y_train, y_test = \n",
    "train_test_split(features,target)\n",
    "for model_object in model_list:\n",
    "    breakpoint()\n",
    "    model = model_object.fit(x_train,y_train)\n",
    "    y_pred = model.predict(x_train)\n",
    "    plt.scatter(y_test, y_pred)\n",
    "```"
   ]
  },
  {
   "cell_type": "markdown",
   "metadata": {
    "slideshow": {
     "slide_type": "subslide"
    }
   },
   "source": [
    "#### c(ontinue)\n",
    "* Run until the next breakpoint is hit"
   ]
  },
  {
   "cell_type": "markdown",
   "metadata": {
    "slideshow": {
     "slide_type": "fragment"
    }
   },
   "source": [
    "```\n",
    "x_train, x_test, y_train, y_test = train_test_split(features,target)\n",
    "for model_object in model_list:\n",
    "    breakpoint()\n",
    "    model = model_object.fit(x_train,y_train)\n",
    "    y_pred = model.predict(x_train)\n",
    "    plt.scatter(y_test, y_pred)\n",
    "```"
   ]
  },
  {
   "cell_type": "markdown",
   "metadata": {
    "slideshow": {
     "slide_type": "subslide"
    }
   },
   "source": [
    "#### l(ist)\n",
    "* Print out the context of the code line you are in\n",
    "\n",
    "#### exit\n",
    "* Yeet out of the debugger"
   ]
  },
  {
   "cell_type": "markdown",
   "metadata": {
    "slideshow": {
     "slide_type": "slide"
    }
   },
   "source": [
    "# For Loop Example"
   ]
  },
  {
   "cell_type": "code",
   "execution_count": 6,
   "metadata": {
    "slideshow": {
     "slide_type": "subslide"
    }
   },
   "outputs": [
    {
     "name": "stdout",
     "output_type": "stream",
     "text": [
      "--Return--\n",
      "> <ipython-input-6-ca6bc732166b>(4)<module>()->None\n",
      "-> breakpoint()\n",
      "(Pdb) exit\n"
     ]
    },
    {
     "ename": "BdbQuit",
     "evalue": "",
     "output_type": "error",
     "traceback": [
      "\u001b[0;31m---------------------------------------------------------------------------\u001b[0m",
      "\u001b[0;31mBdbQuit\u001b[0m                                   Traceback (most recent call last)",
      "\u001b[0;32m<ipython-input-6-ca6bc732166b>\u001b[0m in \u001b[0;36m<module>\u001b[0;34m\u001b[0m\n\u001b[1;32m      2\u001b[0m \u001b[0;32mimport\u001b[0m \u001b[0mLedger\u001b[0m\u001b[0;34m\u001b[0m\u001b[0;34m\u001b[0m\u001b[0m\n\u001b[1;32m      3\u001b[0m \u001b[0mbill\u001b[0m \u001b[0;34m=\u001b[0m \u001b[0;36m100.0\u001b[0m\u001b[0;34m\u001b[0m\u001b[0;34m\u001b[0m\u001b[0m\n\u001b[0;32m----> 4\u001b[0;31m \u001b[0mbreakpoint\u001b[0m\u001b[0;34m(\u001b[0m\u001b[0;34m)\u001b[0m\u001b[0;34m\u001b[0m\u001b[0;34m\u001b[0m\u001b[0m\n\u001b[0m\u001b[1;32m      5\u001b[0m \u001b[0;32mfor\u001b[0m \u001b[0myear\u001b[0m \u001b[0;32min\u001b[0m \u001b[0mrange\u001b[0m\u001b[0;34m(\u001b[0m\u001b[0;36m1\u001b[0m\u001b[0;34m,\u001b[0m\u001b[0;36m4\u001b[0m\u001b[0;34m)\u001b[0m\u001b[0;34m:\u001b[0m\u001b[0;34m\u001b[0m\u001b[0;34m\u001b[0m\u001b[0m\n\u001b[1;32m      6\u001b[0m     \u001b[0mbreakpoint\u001b[0m\u001b[0;34m(\u001b[0m\u001b[0;34m)\u001b[0m\u001b[0;34m\u001b[0m\u001b[0;34m\u001b[0m\u001b[0m\n",
      "\u001b[0;32m~/anaconda3/lib/python3.7/bdb.py\u001b[0m in \u001b[0;36mtrace_dispatch\u001b[0;34m(self, frame, event, arg)\u001b[0m\n\u001b[1;32m     90\u001b[0m             \u001b[0;32mreturn\u001b[0m \u001b[0mself\u001b[0m\u001b[0;34m.\u001b[0m\u001b[0mdispatch_call\u001b[0m\u001b[0;34m(\u001b[0m\u001b[0mframe\u001b[0m\u001b[0;34m,\u001b[0m \u001b[0marg\u001b[0m\u001b[0;34m)\u001b[0m\u001b[0;34m\u001b[0m\u001b[0;34m\u001b[0m\u001b[0m\n\u001b[1;32m     91\u001b[0m         \u001b[0;32mif\u001b[0m \u001b[0mevent\u001b[0m \u001b[0;34m==\u001b[0m \u001b[0;34m'return'\u001b[0m\u001b[0;34m:\u001b[0m\u001b[0;34m\u001b[0m\u001b[0;34m\u001b[0m\u001b[0m\n\u001b[0;32m---> 92\u001b[0;31m             \u001b[0;32mreturn\u001b[0m \u001b[0mself\u001b[0m\u001b[0;34m.\u001b[0m\u001b[0mdispatch_return\u001b[0m\u001b[0;34m(\u001b[0m\u001b[0mframe\u001b[0m\u001b[0;34m,\u001b[0m \u001b[0marg\u001b[0m\u001b[0;34m)\u001b[0m\u001b[0;34m\u001b[0m\u001b[0;34m\u001b[0m\u001b[0m\n\u001b[0m\u001b[1;32m     93\u001b[0m         \u001b[0;32mif\u001b[0m \u001b[0mevent\u001b[0m \u001b[0;34m==\u001b[0m \u001b[0;34m'exception'\u001b[0m\u001b[0;34m:\u001b[0m\u001b[0;34m\u001b[0m\u001b[0;34m\u001b[0m\u001b[0m\n\u001b[1;32m     94\u001b[0m             \u001b[0;32mreturn\u001b[0m \u001b[0mself\u001b[0m\u001b[0;34m.\u001b[0m\u001b[0mdispatch_exception\u001b[0m\u001b[0;34m(\u001b[0m\u001b[0mframe\u001b[0m\u001b[0;34m,\u001b[0m \u001b[0marg\u001b[0m\u001b[0;34m)\u001b[0m\u001b[0;34m\u001b[0m\u001b[0;34m\u001b[0m\u001b[0m\n",
      "\u001b[0;32m~/anaconda3/lib/python3.7/bdb.py\u001b[0m in \u001b[0;36mdispatch_return\u001b[0;34m(self, frame, arg)\u001b[0m\n\u001b[1;32m    152\u001b[0m             \u001b[0;32mfinally\u001b[0m\u001b[0;34m:\u001b[0m\u001b[0;34m\u001b[0m\u001b[0;34m\u001b[0m\u001b[0m\n\u001b[1;32m    153\u001b[0m                 \u001b[0mself\u001b[0m\u001b[0;34m.\u001b[0m\u001b[0mframe_returning\u001b[0m \u001b[0;34m=\u001b[0m \u001b[0;32mNone\u001b[0m\u001b[0;34m\u001b[0m\u001b[0;34m\u001b[0m\u001b[0m\n\u001b[0;32m--> 154\u001b[0;31m             \u001b[0;32mif\u001b[0m \u001b[0mself\u001b[0m\u001b[0;34m.\u001b[0m\u001b[0mquitting\u001b[0m\u001b[0;34m:\u001b[0m \u001b[0;32mraise\u001b[0m \u001b[0mBdbQuit\u001b[0m\u001b[0;34m\u001b[0m\u001b[0;34m\u001b[0m\u001b[0m\n\u001b[0m\u001b[1;32m    155\u001b[0m             \u001b[0;31m# The user issued a 'next' or 'until' command.\u001b[0m\u001b[0;34m\u001b[0m\u001b[0;34m\u001b[0m\u001b[0;34m\u001b[0m\u001b[0m\n\u001b[1;32m    156\u001b[0m             \u001b[0;32mif\u001b[0m \u001b[0mself\u001b[0m\u001b[0;34m.\u001b[0m\u001b[0mstopframe\u001b[0m \u001b[0;32mis\u001b[0m \u001b[0mframe\u001b[0m \u001b[0;32mand\u001b[0m \u001b[0mself\u001b[0m\u001b[0;34m.\u001b[0m\u001b[0mstoplineno\u001b[0m \u001b[0;34m!=\u001b[0m \u001b[0;34m-\u001b[0m\u001b[0;36m1\u001b[0m\u001b[0;34m:\u001b[0m\u001b[0;34m\u001b[0m\u001b[0;34m\u001b[0m\u001b[0m\n",
      "\u001b[0;31mBdbQuit\u001b[0m: "
     ]
    }
   ],
   "source": [
    "from IPython.display import clear_output as bye\n",
    "import Ledger\n",
    "bill = 100.0\n",
    "breakpoint()\n",
    "for year in range(1,4):\n",
    "    breakpoint()\n",
    "    bill = Ledger.add_interest(bill)"
   ]
  },
  {
   "cell_type": "markdown",
   "metadata": {
    "slideshow": {
     "slide_type": "subslide"
    }
   },
   "source": [
    "#### b(reak) [ ([filename:]lineno | function) [, condition] ]\n",
    "* b (break) lists all of the breakpoints\n",
    "* b followed by the above conditional sets a new breakpoint"
   ]
  },
  {
   "cell_type": "code",
   "execution_count": null,
   "metadata": {
    "slideshow": {
     "slide_type": "subslide"
    }
   },
   "outputs": [
    {
     "name": "stdout",
     "output_type": "stream",
     "text": [
      "--Return--\n",
      "> <ipython-input-2-0a4363d9e574>(4)<module>()->None\n",
      "-> breakpoint()\n",
      "(Pdb) b Ledger.add_interest\n",
      "Breakpoint 1 at /Users/dsaphra/Documents/CompProgramming/ds/lectures/nyc-mhtn-ds-082619-lectures/Mod_5/Debugging/Ledger.py:21\n",
      "(Pdb) b\n",
      "Num Type         Disp Enb   Where\n",
      "1   breakpoint   keep yes   at /Users/dsaphra/Documents/CompProgramming/ds/lectures/nyc-mhtn-ds-082619-lectures/Mod_5/Debugging/Ledger.py:21\n",
      "(Pdb) c\n",
      "> /Users/dsaphra/Documents/CompProgramming/ds/lectures/nyc-mhtn-ds-082619-lectures/Mod_5/Debugging/Ledger.py(22)add_interest()\n",
      "-> return bill*(1+interest)\n",
      "(Pdb) l\n",
      " 17  \t\n",
      " 18  \tbills = Ledger()\n",
      " 19  \t\n",
      " 20  \t\n",
      " 21 B\tdef add_interest(bill, interest=.08):\n",
      " 22  ->\t    return bill*(1+interest)\n",
      " 23  \t\n",
      " 24  \t\n",
      " 25  \tdef get_bill():\n",
      " 26  \t    bill = bills.generate()\n",
      " 27  \t    print(f'You need to pay {bill[0]} ${bill[1]}.')\n",
      "(Pdb) h\n",
      "\n",
      "Documented commands (type help <topic>):\n",
      "========================================\n",
      "EOF    c          d        h         list      q        rv       undisplay\n",
      "a      cl         debug    help      ll        quit     s        unt      \n",
      "alias  clear      disable  ignore    longlist  r        source   until    \n",
      "args   commands   display  interact  n         restart  step     up       \n",
      "b      condition  down     j         next      return   tbreak   w        \n",
      "break  cont       enable   jump      p         retval   u        whatis   \n",
      "bt     continue   exit     l         pp        run      unalias  where    \n",
      "\n",
      "Miscellaneous help topics:\n",
      "==========================\n",
      "exec  pdb\n",
      "\n",
      "(Pdb) h rv\n",
      "retval\n",
      "        Print the return value for the last return of a function.\n",
      "(Pdb) h whatis\n",
      "whatis arg\n",
      "        Print the type of the argument.\n",
      "(Pdb) whatis bill\n",
      "<class 'float'>\n",
      "(Pdb) h enable\n",
      "enable bpnumber [bpnumber ...]\n",
      "        Enables the breakpoints given as a space separated list of\n",
      "        breakpoint numbers.\n",
      "(Pdb) h retval\n",
      "retval\n",
      "        Print the return value for the last return of a function.\n"
     ]
    }
   ],
   "source": [
    "from IPython.display import clear_output as bye\n",
    "import Ledger\n",
    "bill = 100.0\n",
    "breakpoint()\n",
    "for year in range(1,4):\n",
    "    bill = Ledger.add_interest(bill)"
   ]
  },
  {
   "cell_type": "markdown",
   "metadata": {
    "slideshow": {
     "slide_type": "slide"
    }
   },
   "source": [
    "## Dependence Example"
   ]
  },
  {
   "cell_type": "code",
   "execution_count": 1,
   "metadata": {
    "slideshow": {
     "slide_type": "subslide"
    }
   },
   "outputs": [],
   "source": [
    "import Ledger"
   ]
  },
  {
   "cell_type": "code",
   "execution_count": 2,
   "metadata": {
    "slideshow": {
     "slide_type": "fragment"
    }
   },
   "outputs": [
    {
     "name": "stdout",
     "output_type": "stream",
     "text": [
      "You need to pay Farm2Bowl $566.\n"
     ]
    },
    {
     "data": {
      "text/plain": [
       "['Farm2Bowl', 566]"
      ]
     },
     "execution_count": 2,
     "metadata": {},
     "output_type": "execute_result"
    }
   ],
   "source": [
    "Ledger.get_bill()"
   ]
  },
  {
   "cell_type": "code",
   "execution_count": 3,
   "metadata": {
    "scrolled": true,
    "slideshow": {
     "slide_type": "subslide"
    }
   },
   "outputs": [
    {
     "name": "stdout",
     "output_type": "stream",
     "text": [
      "You need to pay CoolStuffInc $220.\n",
      "You need to pay WotC $842.\n",
      "You need to pay DNDBeyond $344.\n",
      "You need to pay DNDBeyond $889.\n"
     ]
    }
   ],
   "source": [
    "bills=[]\n",
    "for i in range(4):\n",
    "    bills.append(Ledger.get_bill())"
   ]
  },
  {
   "cell_type": "code",
   "execution_count": 4,
   "metadata": {
    "slideshow": {
     "slide_type": "fragment"
    }
   },
   "outputs": [
    {
     "name": "stdout",
     "output_type": "stream",
     "text": [
      "Payday! You've got 3000 in the bank.\n",
      "Actually . . .\n",
      "Something went wrong, I guess. ¯\\_(ツ)_/¯\n",
      "$2158 left after paying off WotC for $842\n",
      "Something went wrong, I guess. ¯\\_(ツ)_/¯\n",
      "$1269 left after paying off DNDBeyond for $889\n",
      "Time to spend the remaining $1269!\n"
     ]
    }
   ],
   "source": [
    "Ledger.get_paid(bills)"
   ]
  },
  {
   "cell_type": "code",
   "execution_count": 5,
   "metadata": {
    "scrolled": true,
    "slideshow": {
     "slide_type": "subslide"
    }
   },
   "outputs": [
    {
     "name": "stdout",
     "output_type": "stream",
     "text": [
      "--Return--\n",
      "> <ipython-input-5-20227d2986a2>(1)<module>()->None\n",
      "-> breakpoint()\n",
      "(Pdb) exit\n"
     ]
    },
    {
     "ename": "BdbQuit",
     "evalue": "",
     "output_type": "error",
     "traceback": [
      "\u001b[0;31m---------------------------------------------------------------------------\u001b[0m",
      "\u001b[0;31mBdbQuit\u001b[0m                                   Traceback (most recent call last)",
      "\u001b[0;32m<ipython-input-5-20227d2986a2>\u001b[0m in \u001b[0;36m<module>\u001b[0;34m\u001b[0m\n\u001b[0;32m----> 1\u001b[0;31m \u001b[0mbreakpoint\u001b[0m\u001b[0;34m(\u001b[0m\u001b[0;34m)\u001b[0m\u001b[0;34m\u001b[0m\u001b[0;34m\u001b[0m\u001b[0m\n\u001b[0m\u001b[1;32m      2\u001b[0m \u001b[0mLedger\u001b[0m\u001b[0;34m.\u001b[0m\u001b[0mget_paid\u001b[0m\u001b[0;34m(\u001b[0m\u001b[0mbills\u001b[0m\u001b[0;34m)\u001b[0m\u001b[0;34m\u001b[0m\u001b[0;34m\u001b[0m\u001b[0m\n",
      "\u001b[0;32m~/anaconda3/lib/python3.7/bdb.py\u001b[0m in \u001b[0;36mtrace_dispatch\u001b[0;34m(self, frame, event, arg)\u001b[0m\n\u001b[1;32m     90\u001b[0m             \u001b[0;32mreturn\u001b[0m \u001b[0mself\u001b[0m\u001b[0;34m.\u001b[0m\u001b[0mdispatch_call\u001b[0m\u001b[0;34m(\u001b[0m\u001b[0mframe\u001b[0m\u001b[0;34m,\u001b[0m \u001b[0marg\u001b[0m\u001b[0;34m)\u001b[0m\u001b[0;34m\u001b[0m\u001b[0;34m\u001b[0m\u001b[0m\n\u001b[1;32m     91\u001b[0m         \u001b[0;32mif\u001b[0m \u001b[0mevent\u001b[0m \u001b[0;34m==\u001b[0m \u001b[0;34m'return'\u001b[0m\u001b[0;34m:\u001b[0m\u001b[0;34m\u001b[0m\u001b[0;34m\u001b[0m\u001b[0m\n\u001b[0;32m---> 92\u001b[0;31m             \u001b[0;32mreturn\u001b[0m \u001b[0mself\u001b[0m\u001b[0;34m.\u001b[0m\u001b[0mdispatch_return\u001b[0m\u001b[0;34m(\u001b[0m\u001b[0mframe\u001b[0m\u001b[0;34m,\u001b[0m \u001b[0marg\u001b[0m\u001b[0;34m)\u001b[0m\u001b[0;34m\u001b[0m\u001b[0;34m\u001b[0m\u001b[0m\n\u001b[0m\u001b[1;32m     93\u001b[0m         \u001b[0;32mif\u001b[0m \u001b[0mevent\u001b[0m \u001b[0;34m==\u001b[0m \u001b[0;34m'exception'\u001b[0m\u001b[0;34m:\u001b[0m\u001b[0;34m\u001b[0m\u001b[0;34m\u001b[0m\u001b[0m\n\u001b[1;32m     94\u001b[0m             \u001b[0;32mreturn\u001b[0m \u001b[0mself\u001b[0m\u001b[0;34m.\u001b[0m\u001b[0mdispatch_exception\u001b[0m\u001b[0;34m(\u001b[0m\u001b[0mframe\u001b[0m\u001b[0;34m,\u001b[0m \u001b[0marg\u001b[0m\u001b[0;34m)\u001b[0m\u001b[0;34m\u001b[0m\u001b[0;34m\u001b[0m\u001b[0m\n",
      "\u001b[0;32m~/anaconda3/lib/python3.7/bdb.py\u001b[0m in \u001b[0;36mdispatch_return\u001b[0;34m(self, frame, arg)\u001b[0m\n\u001b[1;32m    152\u001b[0m             \u001b[0;32mfinally\u001b[0m\u001b[0;34m:\u001b[0m\u001b[0;34m\u001b[0m\u001b[0;34m\u001b[0m\u001b[0m\n\u001b[1;32m    153\u001b[0m                 \u001b[0mself\u001b[0m\u001b[0;34m.\u001b[0m\u001b[0mframe_returning\u001b[0m \u001b[0;34m=\u001b[0m \u001b[0;32mNone\u001b[0m\u001b[0;34m\u001b[0m\u001b[0;34m\u001b[0m\u001b[0m\n\u001b[0;32m--> 154\u001b[0;31m             \u001b[0;32mif\u001b[0m \u001b[0mself\u001b[0m\u001b[0;34m.\u001b[0m\u001b[0mquitting\u001b[0m\u001b[0;34m:\u001b[0m \u001b[0;32mraise\u001b[0m \u001b[0mBdbQuit\u001b[0m\u001b[0;34m\u001b[0m\u001b[0;34m\u001b[0m\u001b[0m\n\u001b[0m\u001b[1;32m    155\u001b[0m             \u001b[0;31m# The user issued a 'next' or 'until' command.\u001b[0m\u001b[0;34m\u001b[0m\u001b[0;34m\u001b[0m\u001b[0;34m\u001b[0m\u001b[0m\n\u001b[1;32m    156\u001b[0m             \u001b[0;32mif\u001b[0m \u001b[0mself\u001b[0m\u001b[0;34m.\u001b[0m\u001b[0mstopframe\u001b[0m \u001b[0;32mis\u001b[0m \u001b[0mframe\u001b[0m \u001b[0;32mand\u001b[0m \u001b[0mself\u001b[0m\u001b[0;34m.\u001b[0m\u001b[0mstoplineno\u001b[0m \u001b[0;34m!=\u001b[0m \u001b[0;34m-\u001b[0m\u001b[0;36m1\u001b[0m\u001b[0;34m:\u001b[0m\u001b[0;34m\u001b[0m\u001b[0;34m\u001b[0m\u001b[0m\n",
      "\u001b[0;31mBdbQuit\u001b[0m: "
     ]
    }
   ],
   "source": [
    "breakpoint()\n",
    "Ledger.get_paid(bills)"
   ]
  },
  {
   "cell_type": "markdown",
   "metadata": {
    "slideshow": {
     "slide_type": "subslide"
    }
   },
   "source": [
    "## Problem:\n",
    "Explore the following code using the breakpoint and figure out what went wrong in the loops:\n",
    "1. Set a breakpoint for when Ledger.get_bill gets called \n",
    "    * Remember jupyter notebooks have a lot of hidden functions running on the stack\n",
    "2. C(ontinue) into the function, check your context using l(ist) and run any commands to check variables\n",
    "3. **n**(ext), **s**(tep) and **c**(ontinue) are your best friends"
   ]
  },
  {
   "cell_type": "code",
   "execution_count": null,
   "metadata": {
    "scrolled": true,
    "slideshow": {
     "slide_type": "subslide"
    }
   },
   "outputs": [
    {
     "name": "stdout",
     "output_type": "stream",
     "text": [
      "> <ipython-input-7-cf0cea2c6812>(5)<module>()->None\n",
      "-> bills.append(Ledger.get_bill())\n",
      "(Pdb) l\n",
      "  1  \timport Ledger\n",
      "  2  \tbills=[]\n",
      "  3  \tfor i in range(1,5):\n",
      "  4  \t    breakpoint()\n",
      "  5  ->\t    bills.append(Ledger.get_bill())\n",
      "[EOF]\n",
      "(Pdb) bills\n",
      "[]\n",
      "(Pdb) s\n",
      "--Call--\n",
      "> /Users/dsaphra/Documents/CompProgramming/ds/lectures/nyc-mhtn-ds-082619-lectures/Mod_5/Debugging/Ledger.py(25)get_bill()\n",
      "-> def get_bill():\n",
      "(Pdb) l\n",
      " 20  \t\n",
      " 21  \tdef add_interest(bill, interest=.08):\n",
      " 22  \t    return bill*(1+interest)\n",
      " 23  \t\n",
      " 24  \t\n",
      " 25  ->\tdef get_bill():\n",
      " 26  \t    bill = bills.generate()\n",
      " 27  \t    print(f'You need to pay {bill[0]} ${bill[1]}.')\n",
      " 28  \t    return bill\n",
      " 29  \t\n",
      " 30  \t\n",
      "(Pdb) bill\n",
      "*** NameError: name 'bill' is not defined\n",
      "(Pdb) s\n",
      "> /Users/dsaphra/Documents/CompProgramming/ds/lectures/nyc-mhtn-ds-082619-lectures/Mod_5/Debugging/Ledger.py(26)get_bill()\n",
      "-> bill = bills.generate()\n",
      "(Pdb) l\n",
      " 21  \tdef add_interest(bill, interest=.08):\n",
      " 22  \t    return bill*(1+interest)\n",
      " 23  \t\n",
      " 24  \t\n",
      " 25  \tdef get_bill():\n",
      " 26  ->\t    bill = bills.generate()\n",
      " 27  \t    print(f'You need to pay {bill[0]} ${bill[1]}.')\n",
      " 28  \t    return bill\n",
      " 29  \t\n",
      " 30  \t\n",
      " 31  \tdef get_paid(bill_list, paycheck=3000):\n",
      "(Pdb) bill\n",
      "*** NameError: name 'bill' is not defined\n",
      "(Pdb) s\n",
      "--Call--\n",
      "> /Users/dsaphra/Documents/CompProgramming/ds/lectures/nyc-mhtn-ds-082619-lectures/Mod_5/Debugging/Ledger.py(11)generate()\n",
      "-> def generate(self):\n",
      "(Pdb) l\n",
      "  6  \t    def __init__(self):\n",
      "  7  \t        self.counter = 0\n",
      "  8  \t        self.rng = np.random\n",
      "  9  \t        self.co = ['WotC', 'CoolStuffInc', 'DNDBeyond', 'MiniatureMarket', 'Farm2Bowl']\n",
      " 10  \t\n",
      " 11  ->\t    def generate(self):\n",
      " 12  \t        self.counter += 1\n",
      " 13  \t        if self.counter % 2 == 0:\n",
      " 14  \t            return [str(self.rng.choice(self.co, 1)[0]), str(self.rng.randint(10, 1000, 1)[0])]\n",
      " 15  \t        else:\n",
      " 16  \t            return [str(self.rng.choice(self.co, 1)[0]), int(self.rng.randint(10, 1000, 1))]\n",
      "(Pdb) self\n",
      "<Ledger.Ledger object at 0x10a989e10>\n",
      "(Pdb) s\n",
      "> /Users/dsaphra/Documents/CompProgramming/ds/lectures/nyc-mhtn-ds-082619-lectures/Mod_5/Debugging/Ledger.py(12)generate()\n",
      "-> self.counter += 1\n",
      "(Pdb) l\n",
      "  7  \t        self.counter = 0\n",
      "  8  \t        self.rng = np.random\n",
      "  9  \t        self.co = ['WotC', 'CoolStuffInc', 'DNDBeyond', 'MiniatureMarket', 'Farm2Bowl']\n",
      " 10  \t\n",
      " 11  \t    def generate(self):\n",
      " 12  ->\t        self.counter += 1\n",
      " 13  \t        if self.counter % 2 == 0:\n",
      " 14  \t            return [str(self.rng.choice(self.co, 1)[0]), str(self.rng.randint(10, 1000, 1)[0])]\n",
      " 15  \t        else:\n",
      " 16  \t            return [str(self.rng.choice(self.co, 1)[0]), int(self.rng.randint(10, 1000, 1))]\n",
      " 17  \t\n",
      "(Pdb) counter\n",
      "*** NameError: name 'counter' is not defined\n",
      "(Pdb) self.counter\n",
      "5\n",
      "(Pdb) s\n",
      "> /Users/dsaphra/Documents/CompProgramming/ds/lectures/nyc-mhtn-ds-082619-lectures/Mod_5/Debugging/Ledger.py(13)generate()\n",
      "-> if self.counter % 2 == 0:\n",
      "(Pdb) self.counter\n",
      "6\n",
      "(Pdb) l\n",
      "  8  \t        self.rng = np.random\n",
      "  9  \t        self.co = ['WotC', 'CoolStuffInc', 'DNDBeyond', 'MiniatureMarket', 'Farm2Bowl']\n",
      " 10  \t\n",
      " 11  \t    def generate(self):\n",
      " 12  \t        self.counter += 1\n",
      " 13  ->\t        if self.counter % 2 == 0:\n",
      " 14  \t            return [str(self.rng.choice(self.co, 1)[0]), str(self.rng.randint(10, 1000, 1)[0])]\n",
      " 15  \t        else:\n",
      " 16  \t            return [str(self.rng.choice(self.co, 1)[0]), int(self.rng.randint(10, 1000, 1))]\n",
      " 17  \t\n",
      " 18  \tbills = Ledger()\n",
      "(Pdb) s\n",
      "> /Users/dsaphra/Documents/CompProgramming/ds/lectures/nyc-mhtn-ds-082619-lectures/Mod_5/Debugging/Ledger.py(14)generate()\n",
      "-> return [str(self.rng.choice(self.co, 1)[0]), str(self.rng.randint(10, 1000, 1)[0])]\n",
      "(Pdb) l\n",
      "  9  \t        self.co = ['WotC', 'CoolStuffInc', 'DNDBeyond', 'MiniatureMarket', 'Farm2Bowl']\n",
      " 10  \t\n",
      " 11  \t    def generate(self):\n",
      " 12  \t        self.counter += 1\n",
      " 13  \t        if self.counter % 2 == 0:\n",
      " 14  ->\t            return [str(self.rng.choice(self.co, 1)[0]), str(self.rng.randint(10, 1000, 1)[0])]\n",
      " 15  \t        else:\n",
      " 16  \t            return [str(self.rng.choice(self.co, 1)[0]), int(self.rng.randint(10, 1000, 1))]\n",
      " 17  \t\n",
      " 18  \tbills = Ledger()\n",
      " 19  \t\n",
      "(Pdb) self.rng\n",
      "<module 'numpy.random' from '/Users/dsaphra/anaconda3/lib/python3.7/site-packages/numpy/random/__init__.py'>\n",
      "(Pdb) self.rng.randint(10, 1000, 1)\n",
      "array([14])\n",
      "(Pdb) s\n",
      "--Call--\n",
      "> /Users/dsaphra/anaconda3/lib/python3.7/site-packages/numpy/core/fromnumeric.py(2664)prod()\n",
      "-> @array_function_dispatch(_prod_dispatcher)\n",
      "(Pdb) l\n",
      "2659 \tdef _prod_dispatcher(\n",
      "2660 \t        a, axis=None, dtype=None, out=None, keepdims=None, initial=None):\n",
      "2661 \t    return (a, out)\n",
      "2662 \t\n",
      "2663 \t\n",
      "2664 ->\t@array_function_dispatch(_prod_dispatcher)\n",
      "2665 \tdef prod(a, axis=None, dtype=None, out=None, keepdims=np._NoValue, initial=np._NoValue):\n",
      "2666 \t    \"\"\"\n",
      "2667 \t    Return the product of array elements over a given axis.\n",
      "2668 \t\n",
      "2669 \t    Parameters\n",
      "(Pdb) s\n",
      "> /Users/dsaphra/anaconda3/lib/python3.7/site-packages/numpy/core/fromnumeric.py(2771)prod()\n",
      "-> return _wrapreduction(a, np.multiply, 'prod', axis, dtype, out, keepdims=keepdims,\n",
      "(Pdb) l\n",
      "2766 \t    You can also start the product with a value other than one:\n",
      "2767 \t\n",
      "2768 \t    >>> np.prod([1, 2], initial=5)\n",
      "2769 \t    10\n",
      "2770 \t    \"\"\"\n",
      "2771 ->\t    return _wrapreduction(a, np.multiply, 'prod', axis, dtype, out, keepdims=keepdims,\n",
      "2772 \t                          initial=initial)\n",
      "2773 \t\n",
      "2774 \t\n",
      "2775 \tdef _cumprod_dispatcher(a, axis=None, dtype=None, out=None):\n",
      "2776 \t    return (a, out)\n",
      "(Pdb) l\n",
      "2777 \t\n",
      "2778 \t\n",
      "2779 \t@array_function_dispatch(_cumprod_dispatcher)\n",
      "2780 \tdef cumprod(a, axis=None, dtype=None, out=None):\n",
      "2781 \t    \"\"\"\n",
      "2782 \t    Return the cumulative product of elements along a given axis.\n",
      "2783 \t\n",
      "2784 \t    Parameters\n",
      "2785 \t    ----------\n",
      "2786 \t    a : array_like\n",
      "2787 \t        Input array.\n",
      "(Pdb) s\n",
      "> /Users/dsaphra/anaconda3/lib/python3.7/site-packages/numpy/core/fromnumeric.py(2772)prod()\n",
      "-> initial=initial)\n",
      "(Pdb) s\n",
      "--Call--\n",
      "> /Users/dsaphra/anaconda3/lib/python3.7/site-packages/numpy/core/fromnumeric.py(69)_wrapreduction()\n",
      "-> def _wrapreduction(obj, ufunc, method, axis, dtype, out, **kwargs):\n",
      "(Pdb) l\n",
      " 64  \t    # a downstream library like 'pandas'.\n",
      " 65  \t    except (AttributeError, TypeError):\n",
      " 66  \t        return _wrapit(obj, method, *args, **kwds)\n",
      " 67  \t\n",
      " 68  \t\n",
      " 69  ->\tdef _wrapreduction(obj, ufunc, method, axis, dtype, out, **kwargs):\n",
      " 70  \t    passkwargs = {k: v for k, v in kwargs.items()\n",
      " 71  \t                  if v is not np._NoValue}\n",
      " 72  \t\n",
      " 73  \t    if type(obj) is not mu.ndarray:\n",
      " 74  \t        try:\n",
      "(Pdb) c\n",
      "You need to pay Farm2Bowl $839.\n",
      "> <ipython-input-7-cf0cea2c6812>(4)<module>()->None\n",
      "-> breakpoint()\n",
      "(Pdb) l\n",
      "  1  \timport Ledger\n",
      "  2  \tbills=[]\n",
      "  3  \tfor i in range(1,5):\n",
      "  4  ->\t    breakpoint()\n",
      "  5  \t    bills.append(Ledger.get_bill())\n",
      "[EOF]\n",
      "(Pdb) bills\n",
      "[['Farm2Bowl', '839']]\n",
      "(Pdb) s\n",
      "> <ipython-input-7-cf0cea2c6812>(5)<module>()->None\n",
      "-> bills.append(Ledger.get_bill())\n",
      "(Pdb) s\n",
      "--Call--\n",
      "> /Users/dsaphra/Documents/CompProgramming/ds/lectures/nyc-mhtn-ds-082619-lectures/Mod_5/Debugging/Ledger.py(25)get_bill()\n",
      "-> def get_bill():\n",
      "(Pdb) l\n",
      " 20  \t\n",
      " 21  \tdef add_interest(bill, interest=.08):\n",
      " 22  \t    return bill*(1+interest)\n",
      " 23  \t\n",
      " 24  \t\n",
      " 25  ->\tdef get_bill():\n",
      " 26  \t    bill = bills.generate()\n",
      " 27  \t    print(f'You need to pay {bill[0]} ${bill[1]}.')\n",
      " 28  \t    return bill\n",
      " 29  \t\n",
      " 30  \t\n",
      "(Pdb) s\n",
      "> /Users/dsaphra/Documents/CompProgramming/ds/lectures/nyc-mhtn-ds-082619-lectures/Mod_5/Debugging/Ledger.py(26)get_bill()\n",
      "-> bill = bills.generate()\n",
      "(Pdb) l\n",
      " 21  \tdef add_interest(bill, interest=.08):\n",
      " 22  \t    return bill*(1+interest)\n",
      " 23  \t\n",
      " 24  \t\n",
      " 25  \tdef get_bill():\n",
      " 26  ->\t    bill = bills.generate()\n",
      " 27  \t    print(f'You need to pay {bill[0]} ${bill[1]}.')\n",
      " 28  \t    return bill\n",
      " 29  \t\n",
      " 30  \t\n",
      " 31  \tdef get_paid(bill_list, paycheck=3000):\n",
      "(Pdb) s\n",
      "--Call--\n",
      "> /Users/dsaphra/Documents/CompProgramming/ds/lectures/nyc-mhtn-ds-082619-lectures/Mod_5/Debugging/Ledger.py(11)generate()\n",
      "-> def generate(self):\n",
      "(Pdb) l\n",
      "  6  \t    def __init__(self):\n",
      "  7  \t        self.counter = 0\n",
      "  8  \t        self.rng = np.random\n",
      "  9  \t        self.co = ['WotC', 'CoolStuffInc', 'DNDBeyond', 'MiniatureMarket', 'Farm2Bowl']\n",
      " 10  \t\n",
      " 11  ->\t    def generate(self):\n",
      " 12  \t        self.counter += 1\n",
      " 13  \t        if self.counter % 2 == 0:\n",
      " 14  \t            return [str(self.rng.choice(self.co, 1)[0]), str(self.rng.randint(10, 1000, 1)[0])]\n",
      " 15  \t        else:\n",
      " 16  \t            return [str(self.rng.choice(self.co, 1)[0]), int(self.rng.randint(10, 1000, 1))]\n"
     ]
    },
    {
     "name": "stdout",
     "output_type": "stream",
     "text": [
      "(Pdb) b bills.generate\n",
      "Breakpoint 1 at /Users/dsaphra/Documents/CompProgramming/ds/lectures/nyc-mhtn-ds-082619-lectures/Mod_5/Debugging/Ledger.py:11\n",
      "(Pdb) l\n",
      " 17  \t\n",
      " 18  \tbills = Ledger()\n",
      " 19  \t\n",
      " 20  \t\n",
      " 21  \tdef add_interest(bill, interest=.08):\n",
      " 22  \t    return bill*(1+interest)\n",
      " 23  \t\n",
      " 24  \t\n",
      " 25  \tdef get_bill():\n",
      " 26  \t    bill = bills.generate()\n",
      " 27  \t    print(f'You need to pay {bill[0]} ${bill[1]}.')\n"
     ]
    }
   ],
   "source": [
    "import Ledger\n",
    "bills=[]\n",
    "for i in range(1,5):\n",
    "    breakpoint()\n",
    "    bills.append(Ledger.get_bill())"
   ]
  },
  {
   "cell_type": "markdown",
   "metadata": {
    "slideshow": {
     "slide_type": "notes"
    }
   },
   "source": [
    "## Resources\n",
    "https://www.slideshare.net/svilen.ivanov/the-art-of-debugging\n",
    "\n",
    "https://www.cse.unr.edu/~bebis/CS308/PowerPoint/DEBUGGING.ppt\n",
    "\n",
    "https://www.w3schools.com/python/python_try_except.asp\n",
    "\n",
    "https://realpython.com/python-logging/\n",
    "\n",
    "https://paxson.io/python-logging/ (email logs)\n",
    "\n",
    "## Code Examples\n",
    "Logging Flask server https://github.com/danjizquierdo/BoardGameRecommender/blob/master/recommender.py\n",
    "\n",
    "Try/Except Twitter stream\n",
    "https://github.com/danjizquierdo/1stPrimaryDebateNight2020/blob/master/twitter_migrator.py"
   ]
  }
 ],
 "metadata": {
  "celltoolbar": "Slideshow",
  "kernelspec": {
   "display_name": "Python 3",
   "language": "python",
   "name": "python3"
  },
  "language_info": {
   "codemirror_mode": {
    "name": "ipython",
    "version": 3
   },
   "file_extension": ".py",
   "mimetype": "text/x-python",
   "name": "python",
   "nbconvert_exporter": "python",
   "pygments_lexer": "ipython3",
   "version": "3.7.3"
  }
 },
 "nbformat": 4,
 "nbformat_minor": 2
}
